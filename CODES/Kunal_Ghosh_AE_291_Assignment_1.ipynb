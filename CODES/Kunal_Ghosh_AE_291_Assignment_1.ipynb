{
 "cells": [
  {
   "cell_type": "markdown",
   "id": "b84e601f",
   "metadata": {},
   "source": [
    "# Name: Kunal Ghosh"
   ]
  },
  {
   "cell_type": "markdown",
   "id": "a0b7acca",
   "metadata": {},
   "source": [
    "# Course: M.Tech (Aerospace Engineering)"
   ]
  },
  {
   "cell_type": "markdown",
   "id": "2d4b1665",
   "metadata": {},
   "source": [
    "# Subject: AE 291 (Matrix Computations)"
   ]
  },
  {
   "cell_type": "markdown",
   "id": "0748b49d",
   "metadata": {},
   "source": [
    "# SAP No.: 6000007645"
   ]
  },
  {
   "cell_type": "markdown",
   "id": "38fd9408",
   "metadata": {},
   "source": [
    "# S.R. No.: 05-01-00-10-42-22-1-21061"
   ]
  },
  {
   "cell_type": "markdown",
   "id": "b611cd68",
   "metadata": {},
   "source": [
    "********************************************************************************************************************"
   ]
  },
  {
   "cell_type": "markdown",
   "id": "76aa6a2e",
   "metadata": {},
   "source": [
    "# Importing the necessary libraries"
   ]
  },
  {
   "cell_type": "code",
   "execution_count": 1,
   "id": "42ebe76b",
   "metadata": {},
   "outputs": [],
   "source": [
    "import numpy as np"
   ]
  },
  {
   "cell_type": "code",
   "execution_count": 2,
   "id": "7c5e9916",
   "metadata": {},
   "outputs": [],
   "source": [
    "import pandas as pd"
   ]
  },
  {
   "cell_type": "code",
   "execution_count": 3,
   "id": "66a2c6c8",
   "metadata": {},
   "outputs": [],
   "source": [
    "import sys"
   ]
  },
  {
   "cell_type": "code",
   "execution_count": 4,
   "id": "c7c67efd",
   "metadata": {},
   "outputs": [],
   "source": [
    "import warnings"
   ]
  },
  {
   "cell_type": "code",
   "execution_count": 5,
   "id": "e46b2e2b",
   "metadata": {},
   "outputs": [],
   "source": [
    "warnings.filterwarnings(action='ignore', category=UserWarning)"
   ]
  },
  {
   "cell_type": "markdown",
   "id": "a42ed5e8",
   "metadata": {},
   "source": [
    "********************************************************************************************************************"
   ]
  },
  {
   "cell_type": "markdown",
   "id": "a9258657",
   "metadata": {},
   "source": [
    "# Problem (1):"
   ]
  },
  {
   "cell_type": "markdown",
   "id": "8c2aa7ef",
   "metadata": {},
   "source": [
    "# Write a function that implements Cholesky decomposition to get the Cholesky factor R for a (symmetric) positive definite matrix A. The function should read any matrix, and it should output an error message when the matrix is not positive definite."
   ]
  },
  {
   "cell_type": "markdown",
   "id": "cd7d4742",
   "metadata": {},
   "source": [
    "********************************************************************************************************************"
   ]
  },
  {
   "cell_type": "markdown",
   "id": "9f427f46",
   "metadata": {},
   "source": [
    "# Answer (1):"
   ]
  },
  {
   "cell_type": "markdown",
   "id": "ebfecb46",
   "metadata": {},
   "source": [
    "# Formula to calculate the Cholesky factor, R"
   ]
  },
  {
   "cell_type": "markdown",
   "id": "1542b4a5",
   "metadata": {},
   "source": [
    "Let, \n",
    "$$A = \\begin{bmatrix}\n",
    "    a_{11} & a_{12} & \\cdots & a_{1n} \\\\\n",
    "    a_{21} & a_{22} & \\cdots & a_{2n} \\\\\n",
    "    \\vdots & \\vdots & \\ddots & \\vdots \\\\\n",
    "    a_{n1} & a_{n2} & \\cdots & a_{nn}\n",
    "\\end{bmatrix}$$"
   ]
  },
  {
   "cell_type": "markdown",
   "id": "ebc99351",
   "metadata": {},
   "source": [
    "Also,\n",
    "$$R = \\begin{bmatrix}\n",
    "    r_{11} & r_{12} & r_{13} & \\cdots & r_{1n} \\\\\n",
    "    0 & r_{22} & r_{23} & \\cdots & r_{2n} \\\\\n",
    "    0 & 0 & r_{33} & \\cdots & r_{3n} \\\\\n",
    "    \\vdots & \\vdots & \\vdots & \\ddots & \\vdots \\\\\n",
    "    0 & 0 & 0 & \\cdots & r_{nn}\n",
    "\\end{bmatrix}$$"
   ]
  },
  {
   "cell_type": "markdown",
   "id": "84216214",
   "metadata": {},
   "source": [
    "So, $$A = R^TR$$"
   ]
  },
  {
   "cell_type": "markdown",
   "id": "11ef91ee",
   "metadata": {},
   "source": [
    "So, $$r_{11} = \\sqrt{a_{11}}$$"
   ]
  },
  {
   "cell_type": "markdown",
   "id": "466989f0",
   "metadata": {},
   "source": [
    "Also, $$r_{1j} = \\frac{a_{1j}}{r_{11}}$$\n",
    "where, $j \\neq 1$ and $j = \\{2,3,...,n\\}$"
   ]
  },
  {
   "cell_type": "markdown",
   "id": "68a90ad8",
   "metadata": {},
   "source": [
    "So, if i > 1 and $i = \\{2,3,...,n\\}$\n",
    "$$r_{ii} = \\sqrt{a_{ii} - \\left(\\sum_{k = 1}^{i-1}r_{ki}^2\\right)}$$"
   ]
  },
  {
   "cell_type": "markdown",
   "id": "7a0f6b59",
   "metadata": {},
   "source": [
    "So, if i > 1 and $i = \\{2,3,...,n\\}$\n",
    "and also, $j = i+1,i+2,...,n$\n",
    "$$r_{ij} = \\frac{a_{ij} - \\left(\\sum_{k = 1}^{i-1}r_{ki}r_{kj}\\right)}{r_{ii}}$$"
   ]
  },
  {
   "cell_type": "markdown",
   "id": "b671002c",
   "metadata": {},
   "source": [
    "# Pseudocode to calculate the Cholesky factor, R"
   ]
  },
  {
   "cell_type": "markdown",
   "id": "baddcadd",
   "metadata": {},
   "source": [
    "for i = 1,2,...,n"
   ]
  },
  {
   "cell_type": "markdown",
   "id": "3855dda2",
   "metadata": {},
   "source": [
    "$\\:\\:\\:\\:\\:\\:$for k = 1,2,...,i-1 (NOT executed when i = 1)"
   ]
  },
  {
   "cell_type": "markdown",
   "id": "8df4ad85",
   "metadata": {},
   "source": [
    "$\\:\\:\\:\\:\\:\\:$$\\:\\:\\:\\:\\:\\:$$a_{ii} \\leftarrow a_{ii} - a_{ki}^2$"
   ]
  },
  {
   "cell_type": "markdown",
   "id": "d7aee698",
   "metadata": {},
   "source": [
    "$\\:\\:\\:\\:\\:\\:$$a_{ii} \\leq 0$,set error flag, exit (A is NOT positive definite)"
   ]
  },
  {
   "cell_type": "markdown",
   "id": "05027dcd",
   "metadata": {},
   "source": [
    "$\\:\\:\\:\\:\\:\\:$$a_{ii} \\leftarrow \\sqrt{a_{ii}}$ (This is $r_{ii}$)"
   ]
  },
  {
   "cell_type": "markdown",
   "id": "fa19120c",
   "metadata": {},
   "source": [
    "$\\:\\:\\:\\:\\:\\:$for j = i+1,i+2,...,n (NOT executed when i = n)"
   ]
  },
  {
   "cell_type": "markdown",
   "id": "37f5bebd",
   "metadata": {},
   "source": [
    "$\\:\\:\\:\\:\\:\\:$$\\:\\:\\:\\:\\:\\:$for k = 1,2,...,i-1 (NOT executed when i = 1)"
   ]
  },
  {
   "cell_type": "markdown",
   "id": "dfa65886",
   "metadata": {},
   "source": [
    "$\\:\\:\\:\\:\\:\\:$$\\:\\:\\:\\:\\:\\:$$\\:\\:\\:\\:\\:\\:$$a_{ij} \\leftarrow a_{ij} - a_{ki}a_{kj}$"
   ]
  },
  {
   "cell_type": "markdown",
   "id": "ba32830e",
   "metadata": {},
   "source": [
    "$\\:\\:\\:\\:\\:\\:$$a_{ij} = \\frac{a_{ij}}{a_{ii}}$ (This is $r_{ij}$)"
   ]
  },
  {
   "cell_type": "markdown",
   "id": "82a92432",
   "metadata": {},
   "source": [
    "# Cholesky(A) function would take symmetric positive definite matix (A) as input and return Cholesky factor (R) as output"
   ]
  },
  {
   "cell_type": "code",
   "execution_count": 6,
   "id": "f67f0f7c",
   "metadata": {},
   "outputs": [],
   "source": [
    "def Cholesky(A):\n",
    "    \n",
    "    # NOTE: Matrix A will be modified after the execution of this function \n",
    "    \n",
    "    # Error flag if the input matrix is NOT a square matrix\n",
    "    # Checking if the number of rows and columns of the matrix A are equal or NOT\n",
    "    \n",
    "    if A.shape[0] != A.shape[1]:\n",
    "        print(f\"Cholesky(A): A matrix is NOT a square matrix\")\n",
    "        sys.exit()\n",
    "    else:\n",
    "        # Dimension of the matrix is stored in the variable n\n",
    "        n = A.shape[0]\n",
    "    \n",
    "    # Calculating the Cholesky factor (R)\n",
    "    for i in range(n):\n",
    "        if i > 0:\n",
    "            for k in range(i):\n",
    "                A[i][i] = A[i][i] - (A[k][i]**2)\n",
    "        \n",
    "        # Error flag if the input matrix is NOT a positive definite matrix\n",
    "        \n",
    "        if A[i][i] <= 0:\n",
    "            print(f\"Cholesky(A): A matrix is NOT a positive definite matrix\")\n",
    "            sys.exit()\n",
    "        else:\n",
    "            A[i][i] = A[i][i]**0.5\n",
    "        \n",
    "        for j in range(i+1,n):\n",
    "            for k in range(i):\n",
    "                A[i][j] = A[i][j] - (A[k][i]*A[k][j])\n",
    "            A[i][j] = A[i][j]/A[i][i]\n",
    "    \n",
    "    # Declaring a new matrix to store the Cholesky factor(R)\n",
    "    R = np.zeros(A.shape)\n",
    "\n",
    "    # Storing the Cholesky factor to R\n",
    "    for i in range(n):\n",
    "        for j in range(i,n):\n",
    "            R[i,j] = A[i,j]\n",
    "    \n",
    "    # Returning the Cholesky factor R\n",
    "    return R"
   ]
  },
  {
   "cell_type": "markdown",
   "id": "74bb6cc8",
   "metadata": {},
   "source": [
    "********************************************************************************************************************"
   ]
  },
  {
   "cell_type": "markdown",
   "id": "d4448e20",
   "metadata": {},
   "source": [
    "# Problem (2):"
   ]
  },
  {
   "cell_type": "markdown",
   "id": "7e0ac93c",
   "metadata": {},
   "source": [
    "# Write functions that implement forward and backward substitutions for linear systems whose coefficient matrices are lower and upper triangular, respectively."
   ]
  },
  {
   "cell_type": "markdown",
   "id": "17219f6d",
   "metadata": {},
   "source": [
    "********************************************************************************************************************"
   ]
  },
  {
   "cell_type": "markdown",
   "id": "c30948de",
   "metadata": {},
   "source": [
    "# Answer (2):"
   ]
  },
  {
   "cell_type": "markdown",
   "id": "68c4095f",
   "metadata": {},
   "source": [
    "Let L be a lower triangular matrix.\n",
    "$$L = \\begin{bmatrix}\n",
    "    l_{11} & 0 & 0 & \\cdots & 0 \\\\\n",
    "    l_{21} & l_{22} & 0 & \\cdots & 0 \\\\\n",
    "    l_{31} & l_{32} & l_{33} & \\cdots & 0 \\\\\n",
    "    \\vdots & \\vdots & \\vdots & \\ddots & \\vdots \\\\\n",
    "    l_{n1} & l_{n2} & l_{n3} & \\cdots & l_{nn}\n",
    "\\end{bmatrix}$$"
   ]
  },
  {
   "cell_type": "markdown",
   "id": "dbc8e3ee",
   "metadata": {},
   "source": [
    "And b be a vector.\n",
    "$$b = \\begin{bmatrix}\n",
    "    b_{1}\\\\\n",
    "    b_{2}\\\\\n",
    "    b_{3}\\\\\n",
    "    \\vdots\\\\\n",
    "    b_{n}\n",
    "\\end{bmatrix}$$"
   ]
  },
  {
   "cell_type": "markdown",
   "id": "935807d8",
   "metadata": {},
   "source": [
    "So, Ly = b\n",
    "$$\\begin{bmatrix}\n",
    "    l_{11} & 0 & 0 & \\cdots & 0 \\\\\n",
    "    l_{21} & l_{22} & 0 & \\cdots & 0 \\\\\n",
    "    l_{31} & l_{32} & l_{33} & \\cdots & 0 \\\\\n",
    "    \\vdots & \\vdots & \\vdots & \\ddots & \\vdots \\\\\n",
    "    l_{n1} & l_{n2} & l_{n3} & \\cdots & l_{nn}\n",
    "\\end{bmatrix} \\begin{bmatrix}\n",
    "    y_{1}\\\\\n",
    "    y_{2}\\\\\n",
    "    y_{3}\\\\\n",
    "    \\vdots\\\\\n",
    "    y_{n}\n",
    "\\end{bmatrix} = \\begin{bmatrix}\n",
    "    b_{1}\\\\\n",
    "    b_{2}\\\\\n",
    "    b_{3}\\\\\n",
    "    \\vdots\\\\\n",
    "    b_{n}\n",
    "\\end{bmatrix}$$"
   ]
  },
  {
   "cell_type": "markdown",
   "id": "b9f671fc",
   "metadata": {},
   "source": [
    "# Formula for forward substitution"
   ]
  },
  {
   "cell_type": "markdown",
   "id": "0eaa0286",
   "metadata": {},
   "source": [
    "$$y_1 = \\frac{b_{1}}{l_{11}}$$"
   ]
  },
  {
   "cell_type": "markdown",
   "id": "eeef76d9",
   "metadata": {},
   "source": [
    "For i > 1,\n",
    "$$y_i = \\frac{b_i - \\left(\\sum_{j = 1}^{i-1}l_{ij}y_{j}\\right)}{l_{ii}}$$"
   ]
  },
  {
   "cell_type": "markdown",
   "id": "16615c1c",
   "metadata": {},
   "source": [
    "# Pseudocode for forward substitution"
   ]
  },
  {
   "cell_type": "markdown",
   "id": "1b288904",
   "metadata": {},
   "source": [
    "for i = 1,2,...,n"
   ]
  },
  {
   "cell_type": "markdown",
   "id": "49fbeedb",
   "metadata": {},
   "source": [
    "$\\qquad$for j = 1,2,...,i-1 (NOT executed when i = 1)"
   ]
  },
  {
   "cell_type": "markdown",
   "id": "62546a2b",
   "metadata": {},
   "source": [
    "$\\qquad$$\\qquad$$b_i\\leftarrow b_i - (l_{ij}b_j)$"
   ]
  },
  {
   "cell_type": "markdown",
   "id": "9afc64a2",
   "metadata": {},
   "source": [
    "$\\qquad$if $l_{ii} = 0$, set error flag exit"
   ]
  },
  {
   "cell_type": "markdown",
   "id": "e8159233",
   "metadata": {},
   "source": [
    "$\\qquad$$b_i\\leftarrow \\frac{b_i}{l_{ii}}$"
   ]
  },
  {
   "cell_type": "markdown",
   "id": "2a503dcf",
   "metadata": {},
   "source": [
    "# Forward_Lower_Triangular(L,b) would take a lower triangular matrix (L) and the corresponding RHS (b) of the system of equations as inputs. This function would solve them using forward substitution and return the solution. The solution will be returned in b. So, the vector b will be modified after the execution of this function."
   ]
  },
  {
   "cell_type": "code",
   "execution_count": 7,
   "id": "071ccf10",
   "metadata": {},
   "outputs": [],
   "source": [
    "def Forward_Lower_Triangular(L,b):\n",
    "    \n",
    "    # NOTE: Vector b will be modified after the execution of this function\n",
    "    \n",
    "    # Error flag if the input matrix is NOT a square matrix\n",
    "    # Checking if the number of rows and columns of the matrix L are equal or NOT\n",
    "    \n",
    "    if L.shape[0] != L.shape[1]:\n",
    "        print(f\"Forward_Lower_Triangular(L,b): L matrix is NOT a square matrix\")\n",
    "        sys.exit()\n",
    "    else:\n",
    "        # Dimension of the matrix is stored in the variable n\n",
    "        n = A.shape[0]\n",
    "    \n",
    "    # Calculatig the solution\n",
    "    for i in range(n):\n",
    "        if i > 0:\n",
    "            for j in range(i):\n",
    "                b[i] = b[i] - L[i][j]*b[j]\n",
    "        \n",
    "        # Error flag if the diagonal element of the input matrix, L is 0\n",
    "        if L[i][i] == 0:\n",
    "            print(f\"Forward_Lower_Triangular(L,b): Diagonal element zero\")\n",
    "            sys.exit()\n",
    "        else:\n",
    "            b[i] = b[i]/L[i][i]\n",
    "    \n",
    "    # Returning the solution\n",
    "    return b"
   ]
  },
  {
   "cell_type": "markdown",
   "id": "c2488f2a",
   "metadata": {},
   "source": [
    "Let U be an upper triangular matrix.\n",
    "$$U = \\begin{bmatrix}\n",
    "    u_{11} & u_{12} & u_{13} & \\cdots & u_{1n} \\\\\n",
    "    0 & u_{22} & u_{23} & \\cdots & u_{2n} \\\\\n",
    "    0 & 0 & u_{33} & \\cdots & u_{3n} \\\\\n",
    "    \\vdots & \\vdots & \\vdots & \\ddots & \\vdots \\\\\n",
    "    0 & 0 & 0 & \\cdots & u_{nn}\n",
    "\\end{bmatrix}$$"
   ]
  },
  {
   "cell_type": "markdown",
   "id": "4483ab75",
   "metadata": {},
   "source": [
    "And b be a vector.\n",
    "$$b = \\begin{bmatrix}\n",
    "    b_{1}\\\\\n",
    "    b_{2}\\\\\n",
    "    b_{3}\\\\\n",
    "    \\vdots\\\\\n",
    "    b_{n}\n",
    "\\end{bmatrix}$$"
   ]
  },
  {
   "cell_type": "markdown",
   "id": "816eeaff",
   "metadata": {},
   "source": [
    "So, Uz = b\n",
    "$$\\begin{bmatrix}\n",
    "    u_{11} & u_{12} & u_{13} & \\cdots & u_{1n} \\\\\n",
    "    0 & u_{22} & u_{23} & \\cdots & u_{2n} \\\\\n",
    "    0 & 0 & u_{33} & \\cdots & u_{3n} \\\\\n",
    "    \\vdots & \\vdots & \\vdots & \\ddots & \\vdots \\\\\n",
    "    0 & 0 & 0 & \\cdots & u_{nn}\n",
    "\\end{bmatrix} \\begin{bmatrix}\n",
    "    z_{1}\\\\\n",
    "    z_{2}\\\\\n",
    "    z_{3}\\\\\n",
    "    \\vdots\\\\\n",
    "    z_{n}\n",
    "\\end{bmatrix} = \\begin{bmatrix}\n",
    "    b_{1}\\\\\n",
    "    b_{2}\\\\\n",
    "    b_{3}\\\\\n",
    "    \\vdots\\\\\n",
    "    b_{n}\n",
    "\\end{bmatrix}$$"
   ]
  },
  {
   "cell_type": "markdown",
   "id": "fba33771",
   "metadata": {},
   "source": [
    "# Formula for backward substitution"
   ]
  },
  {
   "cell_type": "markdown",
   "id": "267faa97",
   "metadata": {},
   "source": [
    "$$z_n = \\frac{b_{n}}{u_{nn}}$$"
   ]
  },
  {
   "cell_type": "markdown",
   "id": "d6c51f03",
   "metadata": {},
   "source": [
    "For i < n,\n",
    "$$z_i = \\frac{b_i - \\left(\\sum_{j = i+1}^{n}u_{ij}z_{j}\\right)}{u_{ii}}$$"
   ]
  },
  {
   "cell_type": "markdown",
   "id": "92c9e127",
   "metadata": {},
   "source": [
    "# Pseudocode for backward substitution"
   ]
  },
  {
   "cell_type": "markdown",
   "id": "fe58780b",
   "metadata": {},
   "source": [
    "for i = n,n-1,...,1"
   ]
  },
  {
   "cell_type": "markdown",
   "id": "f18587a2",
   "metadata": {},
   "source": [
    "$\\qquad$for j = i+1,i+2,...,n (NOT executed when i = n)"
   ]
  },
  {
   "cell_type": "markdown",
   "id": "8e1f4080",
   "metadata": {},
   "source": [
    "$\\qquad$$\\qquad$$b_i\\leftarrow b_i - (u_{ij}b_j)$"
   ]
  },
  {
   "cell_type": "markdown",
   "id": "a64492cc",
   "metadata": {},
   "source": [
    "$\\qquad$if $u_{ii} = 0$, set error flag exit"
   ]
  },
  {
   "cell_type": "markdown",
   "id": "6ebc2f65",
   "metadata": {},
   "source": [
    "$\\qquad$$b_i\\leftarrow \\frac{b_i}{u_{ii}}$"
   ]
  },
  {
   "cell_type": "markdown",
   "id": "0587ff38",
   "metadata": {},
   "source": [
    "# Backward_Upper_Triangular(U,b) would take a upper triangular matrix (U) and the corresponding RHS (b) of the system of equations as inputs. This function would solve them using backward substitution and return the solution. The solution will be returned in b. So, the vector b will be modified after the execution of this function."
   ]
  },
  {
   "cell_type": "code",
   "execution_count": 8,
   "id": "5797cf73",
   "metadata": {},
   "outputs": [],
   "source": [
    "def Backward_Upper_Triangular(U,b):\n",
    "    \n",
    "    # NOTE: Vector b will be modified after the execution of this function\n",
    "    \n",
    "    # Error flag if the input matrix is NOT a square matrix\n",
    "    # Checking if the number of rows and columns of the matrix U are equal or NOT\n",
    "    \n",
    "    if U.shape[0] != U.shape[1]:\n",
    "        print(f\"Backward_Upper_Triangular(U,b): U matrix is NOT a square matrix\")\n",
    "        sys.exit()\n",
    "    else:\n",
    "        # Dimension of the matrix is stored in the variable n\n",
    "        n = A.shape[0]\n",
    "\n",
    "    # Calculatig the solution\n",
    "    for i in range(n-1,-1,-1):\n",
    "        if i < (n-1):\n",
    "            for j in range(i+1,n):\n",
    "                b[i] = b[i] - U[i][j]*b[j]\n",
    "\n",
    "        # Error flag if the diagonal element of the input matrix, U is 0\n",
    "        if U[i][i] == 0:\n",
    "            print(f\"Backward_Upper_Triangular(U,b): Diagonal element zero\")\n",
    "            sys.exit()\n",
    "        else:\n",
    "            b[i] = b[i]/U[i][i]\n",
    "    \n",
    "    # Returning the solution        \n",
    "    return b"
   ]
  },
  {
   "cell_type": "markdown",
   "id": "82590da2",
   "metadata": {},
   "source": [
    "********************************************************************************************************************"
   ]
  },
  {
   "cell_type": "markdown",
   "id": "2b8615c1",
   "metadata": {},
   "source": [
    "# Problem (3):"
   ]
  },
  {
   "cell_type": "markdown",
   "id": "200599a9",
   "metadata": {},
   "source": [
    "# Write a function that solves the linear system Ax=b using the above functions, taking a matrix A (positive definite) and a right hand side vector b."
   ]
  },
  {
   "cell_type": "markdown",
   "id": "48ef7c54",
   "metadata": {},
   "source": [
    "********************************************************************************************************************"
   ]
  },
  {
   "cell_type": "markdown",
   "id": "f97d036c",
   "metadata": {},
   "source": [
    "# Answer (3):"
   ]
  },
  {
   "cell_type": "markdown",
   "id": "5efbf1c4",
   "metadata": {},
   "source": [
    "# Matrix_Transpose(A) would take a matrix A as input and return its transpose as the output\n",
    "# (NOTE: This function will be used to generate positive definite matrix from any random matrix)"
   ]
  },
  {
   "cell_type": "code",
   "execution_count": 9,
   "id": "9efb867a",
   "metadata": {},
   "outputs": [],
   "source": [
    "def Matrix_Transpose(A):\n",
    "    \n",
    "    # Declaring a new matrix (A_T) to store the transpose of A matrix\n",
    "    A_T = np.zeros((A.shape[1],A.shape[0]))\n",
    "    \n",
    "    # Calculating the transpose of matrix A\n",
    "    for i in range(A.shape[0]):\n",
    "        for j in range(A.shape[1]):\n",
    "            A_T[i][j] = A[j][i]\n",
    "            \n",
    "    # Returning the transpose of matrix A\n",
    "    return A_T"
   ]
  },
  {
   "cell_type": "markdown",
   "id": "fa88969d",
   "metadata": {},
   "source": [
    "As, A is a positive definite matrix, so,\n",
    "$$A = R^TR$$\n",
    "where, R = Cholesky Factor of A"
   ]
  },
  {
   "cell_type": "markdown",
   "id": "8fe35636",
   "metadata": {},
   "source": [
    "Also, R is a upper triangular matrix."
   ]
  },
  {
   "cell_type": "markdown",
   "id": "3cf41824",
   "metadata": {},
   "source": [
    "So, $R^T$ is lower triangular matrix.\n",
    "Let, \n",
    "$$L = R^T$$"
   ]
  },
  {
   "cell_type": "markdown",
   "id": "fd965c18",
   "metadata": {},
   "source": [
    "So, $$A = LR$$"
   ]
  },
  {
   "cell_type": "markdown",
   "id": "8475714a",
   "metadata": {},
   "source": [
    "As, we have $$Ax = b$$"
   ]
  },
  {
   "cell_type": "markdown",
   "id": "2e1ac09d",
   "metadata": {},
   "source": [
    "So, $$LRx = b$$"
   ]
  },
  {
   "cell_type": "markdown",
   "id": "e8a2b7a9",
   "metadata": {},
   "source": [
    "Let, $$y = Rx$$"
   ]
  },
  {
   "cell_type": "markdown",
   "id": "a131f1af",
   "metadata": {},
   "source": [
    "So, $$Ly = b$$"
   ]
  },
  {
   "cell_type": "markdown",
   "id": "8d77c43e",
   "metadata": {},
   "source": [
    "We can solve this for y using forward substitution, as L is a lower triangular matrix."
   ]
  },
  {
   "cell_type": "markdown",
   "id": "61869012",
   "metadata": {},
   "source": [
    "Once, we get the y, we don't need b after that. So, b will be modified."
   ]
  },
  {
   "cell_type": "markdown",
   "id": "c378b628",
   "metadata": {},
   "source": [
    "So, $$Rx = y$$"
   ]
  },
  {
   "cell_type": "markdown",
   "id": "fa563ff2",
   "metadata": {},
   "source": [
    "We can solve this for x using backward substitution, as R is an upper triangular matrix."
   ]
  },
  {
   "cell_type": "markdown",
   "id": "8e4c0c8d",
   "metadata": {},
   "source": [
    "So, we can obtain x for the linear system of equation $Ax = b$, provided A is a positive definte matrix."
   ]
  },
  {
   "cell_type": "markdown",
   "id": "ee27786b",
   "metadata": {},
   "source": [
    "# linear_solver(A,b) would solve a system of equation Ax = b. Here, matrix A is a positive definte matrix. Also, the vector b will be modified after the execution of this function"
   ]
  },
  {
   "cell_type": "code",
   "execution_count": 10,
   "id": "cc67f002",
   "metadata": {},
   "outputs": [],
   "source": [
    "def linear_solver(A,b):\n",
    "    # NOTE: Vector b will be modified after the execution of this function\n",
    "    \n",
    "    # Checking the compatibility of the dimensions of A and b\n",
    "    if A.shape[0] != b.shape[0]:\n",
    "        print(f\"linear_solver(A,b): Dimensions of A and b are NOT compatible.\")\n",
    "        sys.exit()\n",
    "        \n",
    "    # Calculating the Cholesky factor of A\n",
    "    R = Cholesky(A)\n",
    "    \n",
    "    # Calculating the transpose of the Cholesky factor of R\n",
    "    L = Matrix_Transpose(R)\n",
    "    \n",
    "    # Solving the linear system of equation using forward substitution with lower triangular coefficient matrix, L\n",
    "    b = Forward_Lower_Triangular(L,b)\n",
    "    \n",
    "    # Solving the linear system of equation using backward substitution with upper triangular coefficient matrix, U\n",
    "    b = Backward_Upper_Triangular(R,b)\n",
    "    \n",
    "    # Returning the solution\n",
    "    return b"
   ]
  },
  {
   "cell_type": "markdown",
   "id": "7f1a1f5d",
   "metadata": {},
   "source": [
    "********************************************************************************************************************"
   ]
  },
  {
   "cell_type": "markdown",
   "id": "0f1e712f",
   "metadata": {},
   "source": [
    "# NOTE: User may choose to directly modify \"A.csv\" and \"b.csv\" to input the coefficient matrix A and RHS b, rather than generating random A and b. Then the user should skip execution until $^*$ snippet below."
   ]
  },
  {
   "cell_type": "markdown",
   "id": "65a8ee53",
   "metadata": {},
   "source": [
    "# NOTE: Do NOT execute the snippets immediately below $^\\dagger$ if \"A.csv\" and \"b.csv\" is given by the user."
   ]
  },
  {
   "cell_type": "markdown",
   "id": "df81f5c5",
   "metadata": {},
   "source": [
    "# $^\\dagger$Generating a random matrix, M using numpy"
   ]
  },
  {
   "cell_type": "markdown",
   "id": "a77ba462",
   "metadata": {},
   "source": [
    "# $^\\dagger$Dimension of matrix M can be modified by changing M_n"
   ]
  },
  {
   "cell_type": "markdown",
   "id": "cbbfe7e7",
   "metadata": {},
   "source": [
    "$$M\\:\\in \\mathbb{R}^{M_n\\times M_n}$$"
   ]
  },
  {
   "cell_type": "code",
   "execution_count": 11,
   "id": "322b64fa",
   "metadata": {},
   "outputs": [],
   "source": [
    "M_n = 6"
   ]
  },
  {
   "cell_type": "code",
   "execution_count": 12,
   "id": "7bc1251a",
   "metadata": {},
   "outputs": [],
   "source": [
    "M = np.random.rand(M_n,M_n)"
   ]
  },
  {
   "cell_type": "markdown",
   "id": "436c5efd",
   "metadata": {},
   "source": [
    "# $^\\dagger$As M matrix must be non-singular"
   ]
  },
  {
   "cell_type": "code",
   "execution_count": 13,
   "id": "4fdc4a5a",
   "metadata": {},
   "outputs": [],
   "source": [
    "if np.linalg.det(M) == 0:\n",
    "    print(\"Please re-generate the M matrix. A singular matrix, M was genenrated\")\n",
    "    sys.exit()"
   ]
  },
  {
   "cell_type": "markdown",
   "id": "35ea9e63",
   "metadata": {},
   "source": [
    "# $^\\dagger$Displaying the matrix M"
   ]
  },
  {
   "cell_type": "code",
   "execution_count": 14,
   "id": "3da6003d",
   "metadata": {},
   "outputs": [
    {
     "data": {
      "text/plain": [
       "array([[0.72851811, 0.27956686, 0.68203973, 0.69815482, 0.57845435,\n",
       "        0.05732164],\n",
       "       [0.92606237, 0.01840618, 0.82925847, 0.57014121, 0.54722213,\n",
       "        0.28501657],\n",
       "       [0.67885797, 0.05303683, 0.26116839, 0.20862104, 0.00422623,\n",
       "        0.90832808],\n",
       "       [0.60725527, 0.20360438, 0.63425521, 0.26261262, 0.26014895,\n",
       "        0.40587456],\n",
       "       [0.64672738, 0.68432278, 0.76528293, 0.22430004, 0.23154252,\n",
       "        0.15181245],\n",
       "       [0.66431884, 0.80801833, 0.28376301, 0.29522317, 0.92070451,\n",
       "        0.98826395]])"
      ]
     },
     "execution_count": 14,
     "metadata": {},
     "output_type": "execute_result"
    }
   ],
   "source": [
    "M"
   ]
  },
  {
   "cell_type": "markdown",
   "id": "436005ae",
   "metadata": {},
   "source": [
    "# $^\\dagger$Generating a positive definite matix, A"
   ]
  },
  {
   "cell_type": "markdown",
   "id": "5a3dbdb4",
   "metadata": {},
   "source": [
    "$$A\\:\\in \\mathbb{R}^{M_n\\times M_n}$$"
   ]
  },
  {
   "cell_type": "markdown",
   "id": "7f7b3259",
   "metadata": {},
   "source": [
    "$$A = M^TM$$"
   ]
  },
  {
   "cell_type": "code",
   "execution_count": 15,
   "id": "f1ac2bdc",
   "metadata": {},
   "outputs": [],
   "source": [
    "A = (M.T)@M"
   ]
  },
  {
   "cell_type": "markdown",
   "id": "53adfe6a",
   "metadata": {},
   "source": [
    "# $^\\dagger$Storing the number of rows of matrix A"
   ]
  },
  {
   "cell_type": "code",
   "execution_count": 16,
   "id": "fd028589",
   "metadata": {},
   "outputs": [],
   "source": [
    "n = A.shape[0]"
   ]
  },
  {
   "cell_type": "markdown",
   "id": "e16547c2",
   "metadata": {},
   "source": [
    "# $^\\dagger$Generating a random RHS (b) for the system of equation Ax = b"
   ]
  },
  {
   "cell_type": "markdown",
   "id": "d0b7b200",
   "metadata": {},
   "source": [
    "$$b\\:\\in \\mathbb{R}^{M_n}$$"
   ]
  },
  {
   "cell_type": "code",
   "execution_count": 17,
   "id": "81ff1644",
   "metadata": {},
   "outputs": [],
   "source": [
    "b = np.random.rand(n)"
   ]
  },
  {
   "cell_type": "markdown",
   "id": "49060a1b",
   "metadata": {},
   "source": [
    "# $^\\dagger$Converting A to a pandas dataframe"
   ]
  },
  {
   "cell_type": "code",
   "execution_count": 18,
   "id": "c791f275",
   "metadata": {},
   "outputs": [],
   "source": [
    "A_file = pd.DataFrame(A)"
   ]
  },
  {
   "cell_type": "markdown",
   "id": "2907e7b9",
   "metadata": {},
   "source": [
    "# $^\\dagger$Converting b to a pandas dataframe"
   ]
  },
  {
   "cell_type": "code",
   "execution_count": 19,
   "id": "1e520740",
   "metadata": {},
   "outputs": [],
   "source": [
    "b_file = pd.DataFrame(b)"
   ]
  },
  {
   "cell_type": "markdown",
   "id": "daba2e24",
   "metadata": {},
   "source": [
    "# $^\\dagger$Writing A to a csv file"
   ]
  },
  {
   "cell_type": "code",
   "execution_count": 20,
   "id": "b998a298",
   "metadata": {},
   "outputs": [],
   "source": [
    "A_file.to_csv(\"A.csv\",index=None,header=None)"
   ]
  },
  {
   "cell_type": "markdown",
   "id": "adc7d10c",
   "metadata": {},
   "source": [
    "# $^\\dagger$Writing b to a csv file"
   ]
  },
  {
   "cell_type": "code",
   "execution_count": 21,
   "id": "5024bd2c",
   "metadata": {},
   "outputs": [],
   "source": [
    "b_file.to_csv(\"b.csv\",index=None,header=None)"
   ]
  },
  {
   "cell_type": "markdown",
   "id": "f9d51422",
   "metadata": {},
   "source": [
    "********************************************************************************************************************"
   ]
  },
  {
   "cell_type": "markdown",
   "id": "f6df7233",
   "metadata": {},
   "source": [
    "# Reading from the input files$^*$"
   ]
  },
  {
   "cell_type": "markdown",
   "id": "64909870",
   "metadata": {},
   "source": [
    "# Reading input file \"A.csv\" for the coefficient matrix A \n",
    "# (This can be modified by the user)"
   ]
  },
  {
   "cell_type": "code",
   "execution_count": 22,
   "id": "8db032b3",
   "metadata": {},
   "outputs": [],
   "source": [
    "A = pd.read_csv(\"A.csv\",header=None)"
   ]
  },
  {
   "cell_type": "markdown",
   "id": "84efaaaf",
   "metadata": {},
   "source": [
    "# Converting the A matrix from pandas dataframe to numpy array"
   ]
  },
  {
   "cell_type": "code",
   "execution_count": 23,
   "id": "6fa76a47",
   "metadata": {},
   "outputs": [],
   "source": [
    "A = A.to_numpy(dtype = np.float64)"
   ]
  },
  {
   "cell_type": "markdown",
   "id": "0fe9ed70",
   "metadata": {},
   "source": [
    "# Reading input file \"b.csv\" for the RHS b \n",
    "# (This can be modified by the user)"
   ]
  },
  {
   "cell_type": "code",
   "execution_count": 24,
   "id": "0d69c0e9",
   "metadata": {},
   "outputs": [],
   "source": [
    "b = pd.read_csv(\"b.csv\",header=None)"
   ]
  },
  {
   "cell_type": "markdown",
   "id": "583d7763",
   "metadata": {},
   "source": [
    "# Converting the b vector from pandas dataframe to numpy array"
   ]
  },
  {
   "cell_type": "code",
   "execution_count": 25,
   "id": "dadaff75",
   "metadata": {},
   "outputs": [],
   "source": [
    "b = b.to_numpy(dtype = np.float64)"
   ]
  },
  {
   "cell_type": "markdown",
   "id": "724c8c56",
   "metadata": {},
   "source": [
    "# Calculating the solution of Ax = b, using inbuilt numpy functions"
   ]
  },
  {
   "cell_type": "code",
   "execution_count": 26,
   "id": "1fb51761",
   "metadata": {},
   "outputs": [
    {
     "data": {
      "text/plain": [
       "array([[ 35.01590063],\n",
       "       [  0.62248661],\n",
       "       [-21.78538505],\n",
       "       [-19.29517364],\n",
       "       [  5.07158486],\n",
       "       [-15.80279477]])"
      ]
     },
     "execution_count": 26,
     "metadata": {},
     "output_type": "execute_result"
    }
   ],
   "source": [
    "np.linalg.inv(A)@b"
   ]
  },
  {
   "cell_type": "markdown",
   "id": "51db5a33",
   "metadata": {},
   "source": [
    "# Solving the linear system of equation Ax = b, using linear_solver(A,b)"
   ]
  },
  {
   "cell_type": "code",
   "execution_count": 27,
   "id": "fdd940f5",
   "metadata": {},
   "outputs": [],
   "source": [
    "x = linear_solver(A,b)"
   ]
  },
  {
   "cell_type": "markdown",
   "id": "d7a524da",
   "metadata": {},
   "source": [
    "# Converting the solution, x to a pandas dataframe"
   ]
  },
  {
   "cell_type": "code",
   "execution_count": 28,
   "id": "c298da19",
   "metadata": {},
   "outputs": [],
   "source": [
    "x_file = pd.DataFrame(x)"
   ]
  },
  {
   "cell_type": "markdown",
   "id": "a1d91040",
   "metadata": {},
   "source": [
    "# Storing the solution to a csv file, \"x.csv\""
   ]
  },
  {
   "cell_type": "code",
   "execution_count": 29,
   "id": "b485996f",
   "metadata": {},
   "outputs": [],
   "source": [
    "x_file.to_csv(\"x.csv\",index=None,header=None)"
   ]
  },
  {
   "cell_type": "markdown",
   "id": "b6339248",
   "metadata": {},
   "source": [
    "# Displaying the solution, using linear_solver(A,b)"
   ]
  },
  {
   "cell_type": "code",
   "execution_count": 30,
   "id": "a3e8c75b",
   "metadata": {},
   "outputs": [
    {
     "data": {
      "text/plain": [
       "array([[ 35.01590063],\n",
       "       [  0.62248661],\n",
       "       [-21.78538505],\n",
       "       [-19.29517364],\n",
       "       [  5.07158486],\n",
       "       [-15.80279477]])"
      ]
     },
     "execution_count": 30,
     "metadata": {},
     "output_type": "execute_result"
    }
   ],
   "source": [
    "x"
   ]
  },
  {
   "cell_type": "markdown",
   "id": "506bf462",
   "metadata": {},
   "source": [
    "********************************************************************************************************************"
   ]
  },
  {
   "cell_type": "markdown",
   "id": "1a600da9",
   "metadata": {},
   "source": [
    "# Example:\n",
    "# If A is NOT positive definite:"
   ]
  },
  {
   "cell_type": "markdown",
   "id": "001c807b",
   "metadata": {},
   "source": [
    "# Reading input file \"A_NOT_Positive_Definite.csv\" for the coefficient matrix A \n",
    "# (This can be modified by the user)"
   ]
  },
  {
   "cell_type": "code",
   "execution_count": 31,
   "id": "93124653",
   "metadata": {},
   "outputs": [],
   "source": [
    "A = pd.read_csv(\"A_NOT_Positive_Definite.csv\",header=None)"
   ]
  },
  {
   "cell_type": "markdown",
   "id": "db43a4c7",
   "metadata": {},
   "source": [
    "# Converting the A matrix from pandas dataframe to numpy array"
   ]
  },
  {
   "cell_type": "code",
   "execution_count": 32,
   "id": "c2ce79a3",
   "metadata": {},
   "outputs": [],
   "source": [
    "A = A.to_numpy(dtype = np.float64)"
   ]
  },
  {
   "cell_type": "markdown",
   "id": "979db41e",
   "metadata": {},
   "source": [
    "# Reading input file \"b_NOT_Positive_Definite.csv\" for the RHS b \n",
    "# (This can be modified by the user)"
   ]
  },
  {
   "cell_type": "code",
   "execution_count": 33,
   "id": "f263b599",
   "metadata": {},
   "outputs": [],
   "source": [
    "b = pd.read_csv(\"b_NOT_Positive_Definite.csv\",header=None)"
   ]
  },
  {
   "cell_type": "markdown",
   "id": "62f9c2a2",
   "metadata": {},
   "source": [
    "# Converting the b vector from pandas dataframe to numpy array"
   ]
  },
  {
   "cell_type": "code",
   "execution_count": 34,
   "id": "4dc37de2",
   "metadata": {},
   "outputs": [],
   "source": [
    "b = b.to_numpy(dtype = np.float64)"
   ]
  },
  {
   "cell_type": "markdown",
   "id": "867f247e",
   "metadata": {},
   "source": [
    "# Solving the linear system of equation Ax = b, using linear_solver(A,b)"
   ]
  },
  {
   "cell_type": "code",
   "execution_count": 35,
   "id": "3cb83e28",
   "metadata": {},
   "outputs": [
    {
     "name": "stdout",
     "output_type": "stream",
     "text": [
      "Cholesky(A): A matrix is NOT a positive definite matrix\n"
     ]
    },
    {
     "ename": "SystemExit",
     "evalue": "",
     "output_type": "error",
     "traceback": [
      "An exception has occurred, use %tb to see the full traceback.\n",
      "\u001b[0;31mSystemExit\u001b[0m\n"
     ]
    }
   ],
   "source": [
    "x = linear_solver(A,b)"
   ]
  },
  {
   "cell_type": "markdown",
   "id": "832ab960",
   "metadata": {},
   "source": [
    "********************************************************************************************************************"
   ]
  },
  {
   "cell_type": "markdown",
   "id": "354aa5e0",
   "metadata": {},
   "source": [
    "# Example:\n",
    "# If Ax = b is having unique solution:"
   ]
  },
  {
   "cell_type": "markdown",
   "id": "cc9cf61f",
   "metadata": {},
   "source": [
    "# Reading input file \"A_UNIQUE_SOLUTION.csv\" for the coefficient matrix A \n",
    "# (This can be modified by the user)"
   ]
  },
  {
   "cell_type": "code",
   "execution_count": 36,
   "id": "b1cd0d30",
   "metadata": {},
   "outputs": [],
   "source": [
    "A = pd.read_csv(\"A_UNIQUE_SOLUTION.csv\",header=None)"
   ]
  },
  {
   "cell_type": "markdown",
   "id": "1a0bd883",
   "metadata": {},
   "source": [
    "# Converting the A matrix from pandas dataframe to numpy array"
   ]
  },
  {
   "cell_type": "code",
   "execution_count": 37,
   "id": "4dfbff6c",
   "metadata": {},
   "outputs": [],
   "source": [
    "A = A.to_numpy(dtype = np.float64)"
   ]
  },
  {
   "cell_type": "markdown",
   "id": "da9e516f",
   "metadata": {},
   "source": [
    "# Reading input file \"b_UNIQUE_SOLUTION.csv\" for the RHS b \n",
    "# (This can be modified by the user)"
   ]
  },
  {
   "cell_type": "code",
   "execution_count": 38,
   "id": "05ff834e",
   "metadata": {},
   "outputs": [],
   "source": [
    "b = pd.read_csv(\"b_UNIQUE_SOLUTION.csv\",header=None)"
   ]
  },
  {
   "cell_type": "markdown",
   "id": "928ba156",
   "metadata": {},
   "source": [
    "# Converting the b vector from pandas dataframe to numpy array"
   ]
  },
  {
   "cell_type": "code",
   "execution_count": 39,
   "id": "5d5cbde0",
   "metadata": {},
   "outputs": [],
   "source": [
    "b = b.to_numpy(dtype = np.float64)"
   ]
  },
  {
   "cell_type": "markdown",
   "id": "bee9d143",
   "metadata": {},
   "source": [
    "# Solving the linear system of equation Ax = b, using linear_solver(A,b)"
   ]
  },
  {
   "cell_type": "code",
   "execution_count": 40,
   "id": "5fd88c0b",
   "metadata": {},
   "outputs": [],
   "source": [
    "x = linear_solver(A,b)"
   ]
  },
  {
   "cell_type": "markdown",
   "id": "5ab82504",
   "metadata": {},
   "source": [
    "# Converting the solution, x to a pandas dataframe"
   ]
  },
  {
   "cell_type": "code",
   "execution_count": 41,
   "id": "1d4e96be",
   "metadata": {},
   "outputs": [],
   "source": [
    "x_file = pd.DataFrame(x)"
   ]
  },
  {
   "cell_type": "markdown",
   "id": "9f34cacb",
   "metadata": {},
   "source": [
    "# Storing the solution to a csv file, \"x_UNIQUE_SOLUTION.csv\""
   ]
  },
  {
   "cell_type": "code",
   "execution_count": 42,
   "id": "4238e0fe",
   "metadata": {},
   "outputs": [],
   "source": [
    "x_file.to_csv(\"x_UNIQUE_SOLUTION.csv\",index=None,header=None)"
   ]
  },
  {
   "cell_type": "markdown",
   "id": "ebdf72f7",
   "metadata": {},
   "source": [
    "# Displaying the solution, using linear_solver(A,b)"
   ]
  },
  {
   "cell_type": "code",
   "execution_count": 43,
   "id": "659801cd",
   "metadata": {},
   "outputs": [
    {
     "data": {
      "text/plain": [
       "array([[1.],\n",
       "       [0.],\n",
       "       [0.],\n",
       "       [0.],\n",
       "       [0.],\n",
       "       [0.]])"
      ]
     },
     "execution_count": 43,
     "metadata": {},
     "output_type": "execute_result"
    }
   ],
   "source": [
    "x"
   ]
  },
  {
   "cell_type": "markdown",
   "id": "c7732207",
   "metadata": {},
   "source": [
    "********************************************************************************************************************"
   ]
  },
  {
   "cell_type": "markdown",
   "id": "afb50002",
   "metadata": {},
   "source": [
    "# Example:\n",
    "# If A is NOT a matrix square"
   ]
  },
  {
   "cell_type": "markdown",
   "id": "85a5d16d",
   "metadata": {},
   "source": [
    "# Reading input file \"A_NON_SQUARE.csv\" for the coefficient matrix A \n",
    "# (This can be modified by the user)"
   ]
  },
  {
   "cell_type": "code",
   "execution_count": 44,
   "id": "75d723fd",
   "metadata": {},
   "outputs": [],
   "source": [
    "A = pd.read_csv(\"A_NON_SQUARE.csv\",header=None)"
   ]
  },
  {
   "cell_type": "markdown",
   "id": "eb64297e",
   "metadata": {},
   "source": [
    "# Converting the A matrix from pandas dataframe to numpy array"
   ]
  },
  {
   "cell_type": "code",
   "execution_count": 45,
   "id": "b499e2bf",
   "metadata": {},
   "outputs": [],
   "source": [
    "A = A.to_numpy(dtype = np.float64)"
   ]
  },
  {
   "cell_type": "markdown",
   "id": "b1780526",
   "metadata": {},
   "source": [
    "# Reading input file \"b_NON_SQUARE.csv\" for the RHS b \n",
    "# (This can be modified by the user)"
   ]
  },
  {
   "cell_type": "code",
   "execution_count": 46,
   "id": "979044b9",
   "metadata": {},
   "outputs": [],
   "source": [
    "b = pd.read_csv(\"b_NON_SQUARE.csv\",header=None)"
   ]
  },
  {
   "cell_type": "markdown",
   "id": "6c298622",
   "metadata": {},
   "source": [
    "# Converting the b vector from pandas dataframe to numpy array"
   ]
  },
  {
   "cell_type": "code",
   "execution_count": 47,
   "id": "d47a76fe",
   "metadata": {},
   "outputs": [],
   "source": [
    "b = b.to_numpy(dtype = np.float64)"
   ]
  },
  {
   "cell_type": "markdown",
   "id": "51eb1e28",
   "metadata": {},
   "source": [
    "# Solving the linear system of equation Ax = b, using linear_solver(A,b)"
   ]
  },
  {
   "cell_type": "code",
   "execution_count": 48,
   "id": "0f0aa778",
   "metadata": {},
   "outputs": [
    {
     "name": "stdout",
     "output_type": "stream",
     "text": [
      "Cholesky(A): A matrix is NOT a square matrix\n"
     ]
    },
    {
     "ename": "SystemExit",
     "evalue": "",
     "output_type": "error",
     "traceback": [
      "An exception has occurred, use %tb to see the full traceback.\n",
      "\u001b[0;31mSystemExit\u001b[0m\n"
     ]
    }
   ],
   "source": [
    "x = linear_solver(A,b)"
   ]
  },
  {
   "cell_type": "markdown",
   "id": "db29d0d8",
   "metadata": {},
   "source": [
    "********************************************************************************************************************"
   ]
  },
  {
   "cell_type": "markdown",
   "id": "a0459b13",
   "metadata": {},
   "source": [
    "# Example:\n",
    "# If A and b are of incompatible dimensions"
   ]
  },
  {
   "cell_type": "markdown",
   "id": "2e41576b",
   "metadata": {},
   "source": [
    "# Reading input file \"A_INCOMPATIBLE.csv\" for the coefficient matrix A \n",
    "# (This can be modified by the user)"
   ]
  },
  {
   "cell_type": "code",
   "execution_count": 49,
   "id": "8b15417c",
   "metadata": {},
   "outputs": [],
   "source": [
    "A = pd.read_csv(\"A_INCOMPATIBLE.csv\",header=None)"
   ]
  },
  {
   "cell_type": "markdown",
   "id": "e0ca358d",
   "metadata": {},
   "source": [
    "# Converting the A matrix from pandas dataframe to numpy array"
   ]
  },
  {
   "cell_type": "code",
   "execution_count": 50,
   "id": "461bd52d",
   "metadata": {},
   "outputs": [],
   "source": [
    "A = A.to_numpy(dtype = np.float64)"
   ]
  },
  {
   "cell_type": "markdown",
   "id": "c61a6586",
   "metadata": {},
   "source": [
    "# Reading input file \"b_INCOMPATIBLE.csv\" for the RHS b \n",
    "# (This can be modified by the user)"
   ]
  },
  {
   "cell_type": "code",
   "execution_count": 51,
   "id": "d70092fd",
   "metadata": {},
   "outputs": [],
   "source": [
    "b = pd.read_csv(\"b_INCOMPATIBLE.csv\",header=None)"
   ]
  },
  {
   "cell_type": "markdown",
   "id": "b83631e9",
   "metadata": {},
   "source": [
    "# Converting the b vector from pandas dataframe to numpy array"
   ]
  },
  {
   "cell_type": "code",
   "execution_count": 52,
   "id": "87d5bf70",
   "metadata": {},
   "outputs": [],
   "source": [
    "b = b.to_numpy(dtype = np.float64)"
   ]
  },
  {
   "cell_type": "markdown",
   "id": "0c15f4a6",
   "metadata": {},
   "source": [
    "# Solving the linear system of equation Ax = b, using linear_solver(A,b)"
   ]
  },
  {
   "cell_type": "code",
   "execution_count": 53,
   "id": "3dcf3d80",
   "metadata": {
    "scrolled": true
   },
   "outputs": [
    {
     "name": "stdout",
     "output_type": "stream",
     "text": [
      "linear_solver(A,b): Dimensions of A and b are NOT compatible.\n"
     ]
    },
    {
     "ename": "SystemExit",
     "evalue": "",
     "output_type": "error",
     "traceback": [
      "An exception has occurred, use %tb to see the full traceback.\n",
      "\u001b[0;31mSystemExit\u001b[0m\n"
     ]
    }
   ],
   "source": [
    "x = linear_solver(A,b)"
   ]
  },
  {
   "cell_type": "markdown",
   "id": "77f72881",
   "metadata": {},
   "source": [
    "********************************************************************************************************************"
   ]
  }
 ],
 "metadata": {
  "kernelspec": {
   "display_name": "Python 3 (ipykernel)",
   "language": "python",
   "name": "python3"
  },
  "language_info": {
   "codemirror_mode": {
    "name": "ipython",
    "version": 3
   },
   "file_extension": ".py",
   "mimetype": "text/x-python",
   "name": "python",
   "nbconvert_exporter": "python",
   "pygments_lexer": "ipython3",
   "version": "3.10.9"
  }
 },
 "nbformat": 4,
 "nbformat_minor": 5
}
